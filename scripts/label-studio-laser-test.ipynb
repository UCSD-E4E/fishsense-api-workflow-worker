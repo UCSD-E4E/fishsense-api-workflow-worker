{
 "cells": [
  {
   "cell_type": "code",
   "execution_count": 20,
   "id": "511fd84e",
   "metadata": {},
   "outputs": [],
   "source": [
    "from label_studio_sdk.client import LabelStudio\n",
    "from fishsense_api_workflow_worker.config import settings\n",
    "from urllib.parse import urlparse\n",
    "from typing import Any\n",
    "from fishsense_api_workflow_worker.models.laser_label import LaserLabel\n",
    "from datetime import datetime\n",
    "import json"
   ]
  },
  {
   "cell_type": "code",
   "execution_count": 2,
   "id": "1433b948",
   "metadata": {},
   "outputs": [],
   "source": [
    "PROJECT_ID = 42"
   ]
  },
  {
   "cell_type": "code",
   "execution_count": 3,
   "id": "8ac72aab",
   "metadata": {},
   "outputs": [],
   "source": [
    "client = LabelStudio(base_url=f\"https://{settings.label_studio.host}\", api_key=settings.label_studio.api_key)"
   ]
  },
  {
   "cell_type": "code",
   "execution_count": 4,
   "id": "fccec588",
   "metadata": {},
   "outputs": [
    {
     "data": {
      "text/plain": [
       "LseTask(id=154071, agreement=None, predictions=[], annotations=[{'id': 84172, 'result': [{'id': '3oi8R725GK', 'type': 'keypointlabels', 'value': {'x': 52.236259606265165, 'y': 45.85343456404331, 'width': 0.18714077317185618, 'keypointlabels': ['Green Laser']}, 'origin': 'manual', 'to_name': 'img-1', 'from_name': 'kp-1', 'image_rotation': 0, 'original_width': 4014, 'original_height': 3016}], 'created_username': ' jonathan.chizick@gmail.com, 51', 'created_ago': '4\\xa0months, 2\\xa0weeks', 'completed_by': 51, 'was_cancelled': False, 'ground_truth': False, 'created_at': '2025-04-16T01:44:40.563998Z', 'updated_at': '2025-04-16T01:44:40.564012Z', 'draft_created_at': None, 'lead_time': 30.279, 'import_id': None, 'last_action': None, 'task': 154071, 'project': 42, 'updated_by': 51, 'parent_prediction': None, 'parent_annotation': None, 'last_created_by': None}], drafts=[], annotators=[51], inner_id=2, cancelled_annotations=0, total_annotations=1, total_predictions=0, completed_at=datetime.datetime(2025, 4, 16, 1, 44, 40, 563998, tzinfo=datetime.timezone.utc), annotations_results='[{id:3oi8R725GK, type:keypointlabels, value:{x:52.24, y:45.85, width:0.19, keypointlabels:[Green Laser]}, origin:manual, to_name:img-1, from_name:kp-1, image_rotation:0, original_width:4014, original_height:3016}]', predictions_results='', predictions_score=None, file_upload=None, storage_filename=None, annotations_ids='84172', predictions_model_versions='', avg_lead_time=30.279, draft_exists=False, updated_by=[{'user_id': 51}], reviewers=None, comments=None, comment_authors=[], reviewed=None, reviews_accepted=None, reviews_rejected=None, ground_truth=None, annotators_count=None, reviewers_count=None, comment_authors_count=None, data={'img': 'https://orchestrator.fishsense.e4e.ucsd.edu/api/v1/data/preprocess_jpeg/dc79e25f850bc1b40cdf3743f2bd4eec'}, meta={}, created_at=datetime.datetime(2025, 4, 8, 5, 44, 1, 398010, tzinfo=datetime.timezone.utc), updated_at=datetime.datetime(2025, 4, 16, 1, 44, 40, 602370, tzinfo=datetime.timezone.utc), is_labeled=True, overlap=1, comment_count=0, unresolved_comment_count=0, last_comment_updated_at=None, project=42)"
      ]
     },
     "execution_count": 4,
     "metadata": {},
     "output_type": "execute_result"
    }
   ],
   "source": [
    "for task in client.tasks.list(project=PROJECT_ID):\n",
    "    if len(task.annotations[0][\"result\"]) > 0:\n",
    "        break\n",
    "\n",
    "task"
   ]
  },
  {
   "cell_type": "code",
   "execution_count": 5,
   "id": "0af08c7a",
   "metadata": {},
   "outputs": [
    {
     "data": {
      "text/plain": [
       "'dc79e25f850bc1b40cdf3743f2bd4eec'"
      ]
     },
     "execution_count": 5,
     "metadata": {},
     "output_type": "execute_result"
    }
   ],
   "source": [
    "urlparse(task.data[\"img\"]).path.split(\"/\")[-1]  # Extract the filename from the URL"
   ]
  },
  {
   "cell_type": "code",
   "execution_count": 6,
   "id": "ef181975",
   "metadata": {},
   "outputs": [
    {
     "data": {
      "text/plain": [
       "4014"
      ]
     },
     "execution_count": 6,
     "metadata": {},
     "output_type": "execute_result"
    }
   ],
   "source": [
    "task.annotations[0][\"result\"][0][\"original_width\"]"
   ]
  },
  {
   "cell_type": "code",
   "execution_count": 7,
   "id": "b49e15df",
   "metadata": {},
   "outputs": [
    {
     "data": {
      "text/plain": [
       "52.236259606265165"
      ]
     },
     "execution_count": 7,
     "metadata": {},
     "output_type": "execute_result"
    }
   ],
   "source": [
    "task.annotations[0][\"result\"][0][\"value\"][\"x\"]"
   ]
  },
  {
   "cell_type": "code",
   "execution_count": 8,
   "id": "933e1034",
   "metadata": {},
   "outputs": [
    {
     "data": {
      "text/plain": [
       "(2097, 1383)"
      ]
     },
     "execution_count": 8,
     "metadata": {},
     "output_type": "execute_result"
    }
   ],
   "source": [
    "original_width = task.annotations[0][\"result\"][0][\"original_width\"]\n",
    "original_height = task.annotations[0][\"result\"][0][\"original_height\"]\n",
    "\n",
    "x = int(\n",
    "    round(task.annotations[0][\"result\"][0][\"value\"][\"x\"] * original_width / 100)\n",
    ")\n",
    "y = int(\n",
    "    round(\n",
    "        task.annotations[0][\"result\"][0][\"value\"][\"y\"] * original_height / 100\n",
    "    )\n",
    ")\n",
    "\n",
    "x, y"
   ]
  },
  {
   "cell_type": "code",
   "execution_count": 9,
   "id": "938ee56a",
   "metadata": {},
   "outputs": [
    {
     "data": {
      "text/plain": [
       "'Green Laser'"
      ]
     },
     "execution_count": 9,
     "metadata": {},
     "output_type": "execute_result"
    }
   ],
   "source": [
    "task.annotations[0][\"result\"][0][\"value\"][\"keypointlabels\"][0]"
   ]
  },
  {
   "cell_type": "code",
   "execution_count": 10,
   "id": "be603d43",
   "metadata": {},
   "outputs": [
    {
     "data": {
      "text/plain": [
       "'jonathan.chizick@gmail.com'"
      ]
     },
     "execution_count": 10,
     "metadata": {},
     "output_type": "execute_result"
    }
   ],
   "source": [
    "task.annotations[0][\"created_username\"].split(\",\")[0].strip()"
   ]
  },
  {
   "cell_type": "code",
   "execution_count": 15,
   "id": "45060d8f",
   "metadata": {},
   "outputs": [
    {
     "data": {
      "text/plain": [
       "datetime.datetime(2025, 4, 16, 1, 44, 40, 564012, tzinfo=datetime.timezone.utc)"
      ]
     },
     "execution_count": 15,
     "metadata": {},
     "output_type": "execute_result"
    }
   ],
   "source": [
    "datetime.fromisoformat(task.annotations[0]['updated_at'])"
   ]
  },
  {
   "cell_type": "code",
   "execution_count": 21,
   "id": "a62fd2df",
   "metadata": {},
   "outputs": [
    {
     "name": "stderr",
     "output_type": "stream",
     "text": [
      "/home/chris/Repos/school/e4e/fishsense/fishsense-api-workflow-worker/.venv/lib/python3.13/site-packages/label_studio_sdk/core/pydantic_utilities.py:88: UserWarning: Pydantic serializer warnings:\n",
      "  PydanticSerializationUnexpectedValue(Expected `str` - serialized value may not be as expected [input_value=[{'id': 84172, 'result': ...last_created_by': None}], input_type=list])\n",
      "  serialized = handler(self)\n"
     ]
    },
    {
     "data": {
      "text/plain": [
       "{'id': 154071,\n",
       " 'predictions': [],\n",
       " 'annotations': [{'id': 84172,\n",
       "   'result': [{'id': '3oi8R725GK',\n",
       "     'type': 'keypointlabels',\n",
       "     'value': {'x': 52.236259606265165,\n",
       "      'y': 45.85343456404331,\n",
       "      'width': 0.18714077317185618,\n",
       "      'keypointlabels': ['Green Laser']},\n",
       "     'origin': 'manual',\n",
       "     'to_name': 'img-1',\n",
       "     'from_name': 'kp-1',\n",
       "     'image_rotation': 0,\n",
       "     'original_width': 4014,\n",
       "     'original_height': 3016}],\n",
       "   'created_username': ' jonathan.chizick@gmail.com, 51',\n",
       "   'created_ago': '4\\xa0months, 2\\xa0weeks',\n",
       "   'completed_by': 51,\n",
       "   'was_cancelled': False,\n",
       "   'ground_truth': False,\n",
       "   'created_at': '2025-04-16T01:44:40.563998Z',\n",
       "   'updated_at': '2025-04-16T01:44:40.564012Z',\n",
       "   'draft_created_at': None,\n",
       "   'lead_time': 30.279,\n",
       "   'import_id': None,\n",
       "   'last_action': None,\n",
       "   'task': 154071,\n",
       "   'project': 42,\n",
       "   'updated_by': 51,\n",
       "   'parent_prediction': None,\n",
       "   'parent_annotation': None,\n",
       "   'last_created_by': None}],\n",
       " 'drafts': [],\n",
       " 'annotators': [51],\n",
       " 'inner_id': 2,\n",
       " 'cancelled_annotations': 0,\n",
       " 'total_annotations': 1,\n",
       " 'total_predictions': 0,\n",
       " 'completed_at': '2025-04-16T01:44:40.563998Z',\n",
       " 'annotations_results': '[{id:3oi8R725GK, type:keypointlabels, value:{x:52.24, y:45.85, width:0.19, keypointlabels:[Green Laser]}, origin:manual, to_name:img-1, from_name:kp-1, image_rotation:0, original_width:4014, original_height:3016}]',\n",
       " 'predictions_results': '',\n",
       " 'predictions_score': None,\n",
       " 'file_upload': None,\n",
       " 'storage_filename': None,\n",
       " 'annotations_ids': '84172',\n",
       " 'predictions_model_versions': '',\n",
       " 'avg_lead_time': 30.279,\n",
       " 'draft_exists': False,\n",
       " 'updated_by': [{'user_id': 51}],\n",
       " 'comment_authors': [],\n",
       " 'data': {'img': 'https://orchestrator.fishsense.e4e.ucsd.edu/api/v1/data/preprocess_jpeg/dc79e25f850bc1b40cdf3743f2bd4eec'},\n",
       " 'meta': {},\n",
       " 'created_at': '2025-04-08T05:44:01.398010Z',\n",
       " 'updated_at': '2025-04-16T01:44:40.602370Z',\n",
       " 'is_labeled': True,\n",
       " 'overlap': 1,\n",
       " 'comment_count': 0,\n",
       " 'unresolved_comment_count': 0,\n",
       " 'last_comment_updated_at': None,\n",
       " 'project': 42}"
      ]
     },
     "execution_count": 21,
     "metadata": {},
     "output_type": "execute_result"
    }
   ],
   "source": [
    "json.loads(task.json())\n"
   ]
  }
 ],
 "metadata": {
  "kernelspec": {
   "display_name": "fishsense-api-workflow-worker",
   "language": "python",
   "name": "python3"
  },
  "language_info": {
   "codemirror_mode": {
    "name": "ipython",
    "version": 3
   },
   "file_extension": ".py",
   "mimetype": "text/x-python",
   "name": "python",
   "nbconvert_exporter": "python",
   "pygments_lexer": "ipython3",
   "version": "3.13.6"
  }
 },
 "nbformat": 4,
 "nbformat_minor": 5
}
