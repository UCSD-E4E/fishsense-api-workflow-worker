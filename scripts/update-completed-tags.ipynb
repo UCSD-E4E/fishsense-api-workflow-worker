{
 "cells": [
  {
   "cell_type": "code",
   "execution_count": 1,
   "id": "e4950a01",
   "metadata": {},
   "outputs": [
    {
     "name": "stderr",
     "output_type": "stream",
     "text": [
      "/home/chris/Repos/school/e4e/fishsense/fishsense-api-workflow-worker/.venv/lib/python3.13/site-packages/pydantic/_internal/_fields.py:198: UserWarning: Field name \"json\" in \"HeadTailLabel\" shadows an attribute in parent \"SQLModel\"\n",
      "  warnings.warn(\n",
      "/home/chris/Repos/school/e4e/fishsense/fishsense-api-workflow-worker/.venv/lib/python3.13/site-packages/pydantic/_internal/_fields.py:198: UserWarning: Field name \"json\" in \"LaserLabel\" shadows an attribute in parent \"SQLModel\"\n",
      "  warnings.warn(\n"
     ]
    }
   ],
   "source": [
    "from fishsense_api_workflow_worker.database import Database\n",
    "from fishsense_api_workflow_worker.config import PG_CONNECTION_STRING\n",
    "from tqdm import tqdm"
   ]
  },
  {
   "cell_type": "code",
   "execution_count": 2,
   "id": "a42321c5",
   "metadata": {},
   "outputs": [
    {
     "name": "stderr",
     "output_type": "stream",
     "text": [
      "100%|██████████| 66850/66850 [23:21<00:00, 47.69it/s]   \n"
     ]
    }
   ],
   "source": [
    "database = Database(PG_CONNECTION_STRING)\n",
    "laser_labels = await database.select_laser_labels()\n",
    "for label in tqdm(laser_labels):\n",
    "    if not label.json:\n",
    "        continue\n",
    "\n",
    "    label.completed = bool(\n",
    "        label.json[\"annotations\"] and label.json[\"annotations\"][0][\"result\"]\n",
    "    )\n",
    "\n",
    "    await database.insert_or_update_laser_label(label)"
   ]
  },
  {
   "cell_type": "code",
   "execution_count": 3,
   "id": "9b0649b1",
   "metadata": {},
   "outputs": [
    {
     "name": "stderr",
     "output_type": "stream",
     "text": [
      "100%|██████████| 40484/40484 [06:59<00:00, 96.57it/s]   \n"
     ]
    }
   ],
   "source": [
    "headtail_labels = await database.select_head_tail_labels()\n",
    "for label in tqdm(headtail_labels):\n",
    "    if not label.json:\n",
    "        continue\n",
    "    \n",
    "    label.completed = bool(\n",
    "        label.json[\"annotations\"] and label.json[\"annotations\"][0][\"result\"]\n",
    "    )\n",
    "\n",
    "    await database.insert_or_update_head_tail_label(label)"
   ]
  }
 ],
 "metadata": {
  "kernelspec": {
   "display_name": "fishsense-api-workflow-worker",
   "language": "python",
   "name": "python3"
  },
  "language_info": {
   "codemirror_mode": {
    "name": "ipython",
    "version": 3
   },
   "file_extension": ".py",
   "mimetype": "text/x-python",
   "name": "python",
   "nbconvert_exporter": "python",
   "pygments_lexer": "ipython3",
   "version": "3.13.6"
  }
 },
 "nbformat": 4,
 "nbformat_minor": 5
}
