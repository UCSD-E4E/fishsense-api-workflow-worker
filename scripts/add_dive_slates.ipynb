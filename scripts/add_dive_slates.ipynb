{
 "cells": [
  {
   "cell_type": "code",
   "execution_count": 2,
   "id": "9b0fc4ac",
   "metadata": {},
   "outputs": [
    {
     "name": "stderr",
     "output_type": "stream",
     "text": [
      "/home/chris/Repos/school/e4e/fishsense/fishsense-api-workflow-worker/.venv/lib/python3.13/site-packages/pydantic/_internal/_fields.py:198: UserWarning: Field name \"json\" in \"HeadTailLabel\" shadows an attribute in parent \"SQLModel\"\n",
      "  warnings.warn(\n",
      "/home/chris/Repos/school/e4e/fishsense/fishsense-api-workflow-worker/.venv/lib/python3.13/site-packages/pydantic/_internal/_fields.py:198: UserWarning: Field name \"json\" in \"LaserLabel\" shadows an attribute in parent \"SQLModel\"\n",
      "  warnings.warn(\n"
     ]
    }
   ],
   "source": [
    "from fishsense_api_workflow_worker.models.dive_slate import DiveSlate\n",
    "from fishsense_api_workflow_worker.database import Database\n",
    "from fishsense_api_workflow_worker.config import PG_CONNECTION_STRING"
   ]
  },
  {
   "cell_type": "code",
   "execution_count": 3,
   "id": "f9c618a5",
   "metadata": {},
   "outputs": [],
   "source": [
    "database = Database(PG_CONNECTION_STRING)"
   ]
  },
  {
   "cell_type": "code",
   "execution_count": 4,
   "id": "e2e187a9",
   "metadata": {},
   "outputs": [],
   "source": [
    "dive_slates = [\n",
    "    DiveSlate(name=\"H-Slate\", path=\"SMILE Calibration Slate (1).pdf\"), # 0\n",
    "    DiveSlate(name=\"Tic-Tac-Toe 1\", path=\"Dive Slate#1.pdf\"), # 1\n",
    "    DiveSlate(name=\"Tic-Tac-Toe 2\", path=\"Dive Slate #2.pdf\"), # 2\n",
    "    DiveSlate(name=\"Tic-Tac-Toe 3\", path=\"Dive Slate #3.pdf\"), # 3\n",
    "    DiveSlate(name=\"Tic-Tac-Toe 4\", path=\"Dive Slate#4.pdf\"), # 4\n",
    "    DiveSlate(name=\"Tic-Tac-Toe 5\", path=\"Dive Slate #5.pdf\"), # 5\n",
    "    DiveSlate(name=\"Tic-Tac-Toe 6\", path=\"Dive Slate#6.pdf\"), # 6\n",
    "    DiveSlate(name=\"V-Slate 1\", path=\"SMILE vslate 1.pdf\"), # 7\n",
    "    DiveSlate(name=\"V-Slate 2\", path=\"SMILE vslate 2.pdf\"), # 8\n",
    "    DiveSlate(name=\"V-Slate 3\", path=\"SMILE vslate 3.pdf\"), # 9\n",
    "    DiveSlate(name=\"V-Slate 4\", path=\"SMILE vslate 4.pdf\"), # 10\n",
    "]"
   ]
  },
  {
   "cell_type": "code",
   "execution_count": 5,
   "id": "97874924",
   "metadata": {},
   "outputs": [],
   "source": [
    "for dive_slate in dive_slates:\n",
    "    existing_slate = await database.select_dive_slate_by_name(dive_slate.name)\n",
    "    if existing_slate:\n",
    "        dive_slate.id = existing_slate.id\n",
    "\n",
    "    await database.insert_or_update_dive_slate(dive_slate)"
   ]
  },
  {
   "cell_type": "code",
   "execution_count": 8,
   "id": "aef36a26",
   "metadata": {},
   "outputs": [],
   "source": [
    "dive_id_map = {\n",
    "    1: (dive_slates[0], True),\n",
    "    95: (dive_slates[1], True),\n",
    "    137: (dive_slates[4], True),\n",
    "    187: (dive_slates[1], True),\n",
    "    227: (dive_slates[5], False),\n",
    "    224: (dive_slates[4], True),\n",
    "    262: (dive_slates[6], False),\n",
    "    286: (dive_slates[2], False),\n",
    "    341: (dive_slates[7], None),\n",
    "    369: (dive_slates[7], None),\n",
    "}"
   ]
  },
  {
   "cell_type": "code",
   "execution_count": 9,
   "id": "2871b7bd",
   "metadata": {},
   "outputs": [],
   "source": [
    "for dive_id, (dive_slate, flip) in dive_id_map.items():\n",
    "    dive = await database.select_dive_by_id(dive_id)\n",
    "    if dive:\n",
    "        dive.dive_slate_id = dive_slate.id\n",
    "        dive.flip_dive_slate = flip\n",
    "        await database.insert_or_update_dive(dive)\n",
    "    else:\n",
    "        print(\"oh no\")"
   ]
  }
 ],
 "metadata": {
  "kernelspec": {
   "display_name": "fishsense-api-workflow-worker",
   "language": "python",
   "name": "python3"
  },
  "language_info": {
   "codemirror_mode": {
    "name": "ipython",
    "version": 3
   },
   "file_extension": ".py",
   "mimetype": "text/x-python",
   "name": "python",
   "nbconvert_exporter": "python",
   "pygments_lexer": "ipython3",
   "version": "3.13.6"
  }
 },
 "nbformat": 4,
 "nbformat_minor": 5
}
