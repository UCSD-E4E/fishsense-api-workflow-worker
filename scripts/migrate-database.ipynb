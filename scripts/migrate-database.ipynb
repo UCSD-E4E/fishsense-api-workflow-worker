{
 "cells": [
  {
   "cell_type": "code",
   "execution_count": 1,
   "id": "463c1b0a",
   "metadata": {},
   "outputs": [
    {
     "name": "stderr",
     "output_type": "stream",
     "text": [
      "/home/chris/Repos/school/e4e/fishsense/fishsense-api-workflow-worker/.venv/lib/python3.13/site-packages/pydantic/_internal/_fields.py:198: UserWarning: Field name \"json\" in \"HeadTailLabel\" shadows an attribute in parent \"SQLModel\"\n",
      "  warnings.warn(\n",
      "/home/chris/Repos/school/e4e/fishsense/fishsense-api-workflow-worker/.venv/lib/python3.13/site-packages/pydantic/_internal/_fields.py:198: UserWarning: Field name \"json\" in \"LaserLabel\" shadows an attribute in parent \"SQLModel\"\n",
      "  warnings.warn(\n"
     ]
    }
   ],
   "source": [
    "import psycopg\n",
    "\n",
    "from pathlib import Path\n",
    "from psycopg.rows import dict_row\n",
    "from fishsense_api_workflow_worker.database import Database\n",
    "from fishsense_api_workflow_worker.models.camera import Camera\n",
    "from fishsense_api_workflow_worker.models.dive import Dive\n",
    "from fishsense_api_workflow_worker.models.image import Image\n",
    "from fishsense_api_workflow_worker.models.laser_label import LaserLabel\n",
    "from fishsense_api_workflow_worker.models.head_tail_label import HeadTailLabel\n",
    "from tqdm import tqdm"
   ]
  },
  {
   "cell_type": "code",
   "execution_count": 3,
   "id": "e1d7bf62",
   "metadata": {},
   "outputs": [],
   "source": [
    "FABRICANT_PASSWORD_PATH=Path(\"../.secrets/postgres_fabricant_password.txt\")\n",
    "\n",
    "with FABRICANT_PASSWORD_PATH.open() as f:\n",
    "    fabricant_password = f.read().strip()"
   ]
  },
  {
   "cell_type": "code",
   "execution_count": 4,
   "id": "ca13824d",
   "metadata": {},
   "outputs": [],
   "source": [
    "PG_CONN_STR = (\n",
    "    f\"postgres://postgres:{fabricant_password}@\"\n",
    "    f\"fabricant-prod.ucsd.edu:5432/\"\n",
    "    f\"postgres\"\n",
    ")"
   ]
  },
  {
   "cell_type": "code",
   "execution_count": 4,
   "id": "14e48386",
   "metadata": {},
   "outputs": [],
   "source": [
    "SELECT_CAMERAS_QUERY = \"SELECT serial_number, name FROM cameras\""
   ]
  },
  {
   "cell_type": "code",
   "execution_count": 5,
   "id": "5ef9a6f7",
   "metadata": {},
   "outputs": [],
   "source": [
    "database = Database()\n",
    "await database.init_database()"
   ]
  },
  {
   "cell_type": "code",
   "execution_count": 6,
   "id": "47ba214d",
   "metadata": {},
   "outputs": [
    {
     "name": "stdout",
     "output_type": "stream",
     "text": [
      "serial_number='BJ6C69506' name='FSL-01' id=1\n",
      "serial_number='BJ6C83748' name='FSL-02' id=2\n",
      "serial_number='BJ6C85528' name='FSL-03' id=3\n",
      "serial_number='BJ6C85524' name='FSL-04' id=4\n",
      "serial_number='BJ6C67988' name='FSL-05' id=5\n",
      "serial_number='BJ6C67987' name='FSL-06' id=6\n",
      "serial_number='' name='FSL-08' id=7\n",
      "serial_number='BJPA75620' name='FSL-09' id=8\n",
      "serial_number='BJPA75624' name='FSL-11' id=9\n",
      "serial_number='BJ6C67989' name='FSL-07' id=10\n",
      "serial_number='BJPA75627' name='FSL-10' id=11\n"
     ]
    }
   ],
   "source": [
    "with psycopg.connect(PG_CONN_STR, row_factory=dict_row) as con, con.cursor() as cur:\n",
    "    rows = cur.execute(query=SELECT_CAMERAS_QUERY)\n",
    "\n",
    "    for row in rows:\n",
    "        existing_camera = await database.select_camera_by_serial_number(row[\"serial_number\"])\n",
    "        if existing_camera is not None:\n",
    "            print(existing_camera)\n",
    "            continue\n",
    "\n",
    "        camera = Camera(serial_number=row[\"serial_number\"], name=row[\"name\"])\n",
    "        await database.insert_or_update_camera(camera)"
   ]
  },
  {
   "cell_type": "code",
   "execution_count": 7,
   "id": "5bc808f2",
   "metadata": {},
   "outputs": [],
   "source": [
    "SELECT_DIVES_QUERY = \"SELECT path, date FROM dives ORDER BY date\"\n",
    "SELECT_IMAGES_QUERY = \"SELECT path, dive, date, image_md5, camera_sn FROM images ORDER BY date\""
   ]
  },
  {
   "cell_type": "code",
   "execution_count": 8,
   "id": "6b540e73",
   "metadata": {},
   "outputs": [],
   "source": [
    "dives = []\n",
    "images = []\n",
    "\n",
    "with psycopg.connect(PG_CONN_STR, row_factory=dict_row) as con, con.cursor() as cur:\n",
    "    dive_rows = cur.execute(query=SELECT_DIVES_QUERY)\n",
    "    for dive_row in dive_rows:\n",
    "        if \".Trashes\" in dive_row[\"path\"]:\n",
    "            continue\n",
    "\n",
    "        dives.append(dive_row)\n",
    "\n",
    "    image_rows = cur.execute(query=SELECT_IMAGES_QUERY)\n",
    "    for image_row in image_rows:\n",
    "        images.append(image_row)"
   ]
  },
  {
   "cell_type": "code",
   "execution_count": 9,
   "id": "b3a7a768",
   "metadata": {},
   "outputs": [
    {
     "name": "stderr",
     "output_type": "stream",
     "text": [
      "100%|██████████| 479/479 [00:10<00:00, 47.22it/s]\n"
     ]
    }
   ],
   "source": [
    "for dive in tqdm(dives):\n",
    "    existing_dive = await database.select_dive_by_path(dive[\"path\"])\n",
    "    if existing_dive is not None:\n",
    "        continue\n",
    "\n",
    "    dive_images = [i for i in images if i[\"dive\"] == dive[\"path\"]]\n",
    "    image_dates = [i[\"date\"] for i in dive_images]\n",
    "\n",
    "    image_dates.sort()\n",
    "    end_date = image_dates[-1]\n",
    "\n",
    "    camera = await database.select_camera_by_serial_number(images[-1][\"camera_sn\"])\n",
    "\n",
    "    dive = Dive(path=dive[\"path\"], dive_datetime=end_date, camera_id=camera.id)\n",
    "    await database.insert_or_update_dive(dive)"
   ]
  },
  {
   "cell_type": "code",
   "execution_count": null,
   "id": "e8421417",
   "metadata": {},
   "outputs": [
    {
     "name": "stderr",
     "output_type": "stream",
     "text": [
      " 19%|█▊        | 89/479 [03:29<2:27:18, 22.66s/it]"
     ]
    }
   ],
   "source": [
    "dives = await database.select_dives()\n",
    "\n",
    "for dive in tqdm(dives):\n",
    "    images_per_dive = [i for i in images if i[\"dive\"] == dive.path]\n",
    "    images_per_dive.sort(key=lambda i: i[\"date\"])\n",
    "\n",
    "    for image_row in images_per_dive:\n",
    "        existing_image = await database.select_image_by_path(image_row[\"path\"])\n",
    "\n",
    "        if existing_image is not None:\n",
    "            continue\n",
    "\n",
    "        existing_checksum = await database.select_image_by_checksum(image_row[\"image_md5\"])\n",
    "\n",
    "        camera = await database.select_camera_by_serial_number(image_row[\"camera_sn\"])\n",
    "        image = Image(path=image_row[\"path\"], taken_datetime=image_row[\"date\"], checksum=image_row[\"image_md5\"], dive_id=dive.id, camera_id=camera.id, is_canonical=existing_checksum is None)\n",
    "        await database.insert_or_update_image(image)"
   ]
  },
  {
   "cell_type": "code",
   "execution_count": 5,
   "id": "555e64fd",
   "metadata": {},
   "outputs": [],
   "source": [
    "SELECT_LASER_LABELS_QUERY = \"SELECT cksum, task_id, x, y FROM laser_labels\""
   ]
  },
  {
   "cell_type": "code",
   "execution_count": null,
   "id": "9cb9c5a5",
   "metadata": {},
   "outputs": [],
   "source": [
    "with psycopg.connect(PG_CONN_STR, row_factory=dict_row) as con, con.cursor() as cur:\n",
    "    rows = cur.execute(query=SELECT_LASER_LABELS_QUERY)\n",
    "\n",
    "    for row in rows:\n",
    "        existing_label = await database.select_laser_label_by_task_id(row[\"task_id\"])\n",
    "        if existing_label is not None:\n",
    "            print(existing_label)\n",
    "            continue\n",
    "\n",
    "        image = await database.select_image_by_checksum(row[\"cksum\"])\n",
    "\n",
    "        label = LaserLabel(label_studio_task_id=row[\"task_id\"], x=row[\"x\"], y=row[\"y\"], image_id=image.id)\n",
    "        await database.insert_or_update_laser_label(label)"
   ]
  },
  {
   "cell_type": "code",
   "execution_count": null,
   "id": "85f41e61",
   "metadata": {},
   "outputs": [],
   "source": [
    "SELECT_CANONICAL_DIVES_QUERY = \"SELECT path, priority FROM canonical_dives\""
   ]
  },
  {
   "cell_type": "code",
   "execution_count": null,
   "id": "b14033db",
   "metadata": {},
   "outputs": [
    {
     "name": "stdout",
     "output_type": "stream",
     "text": [
      "Could not find dive for path drive-download-20240307T1050Z/.Trashes/501\n",
      "Could not find dive for path drive-download-20240307T1050Z/.Trashes/501/082923_Pool Calibration/082323_Slate_FSL01\n",
      "Could not find dive for path drive-download-20240307T1050Z/.Trashes/501/082923_Pool Calibration/082323_Slate_FSL04\n",
      "Could not find dive for path drive-download-20240307T1050Z/.Trashes/501/082923_Pool Calibration/082329_Slate_FSL05\n"
     ]
    }
   ],
   "source": [
    "with psycopg.connect(PG_CONN_STR, row_factory=dict_row) as con, con.cursor() as cur:\n",
    "    rows = cur.execute(query=SELECT_CANONICAL_DIVES_QUERY)\n",
    "\n",
    "    for row in rows:\n",
    "        dive = await database.select_dive_by_path(row[\"path\"])\n",
    "        if dive is None:\n",
    "            print(f\"Could not find dive for path {row['path']}\")\n",
    "            continue\n",
    "\n",
    "        dive.priority = row[\"priority\"]\n",
    "\n",
    "        await database.insert_or_update_dive(dive)"
   ]
  },
  {
   "cell_type": "code",
   "execution_count": null,
   "id": "cd50af90",
   "metadata": {},
   "outputs": [],
   "source": [
    "SELECT_HEAD_TAIL_LABELS_QUERY = \"SELECT cksum, task_id, head_x, head_y, tail_x, tail_y FROM headtail_labels\""
   ]
  },
  {
   "cell_type": "code",
   "execution_count": null,
   "id": "57e386e6",
   "metadata": {},
   "outputs": [],
   "source": [
    "with psycopg.connect(PG_CONN_STR, row_factory=dict_row) as con, con.cursor() as cur:\n",
    "    rows = cur.execute(query=SELECT_HEAD_TAIL_LABELS_QUERY)\n",
    "\n",
    "    for row in rows:\n",
    "        existing_label = await database.select_head_tail_labels_by_task_id(row[\"task_id\"])\n",
    "        if existing_label is not None:\n",
    "            print(existing_label)\n",
    "            continue\n",
    "\n",
    "        image = await database.select_image_by_checksum(row[\"cksum\"])\n",
    "\n",
    "        label = HeadTailLabel(label_studio_task_id=row[\"task_id\"], head_x=row[\"head_x\"], head_y=row[\"head_y\"], tail_x=row[\"tail_x\"], tail_y=row[\"tail_y\"], image_id=image.id)\n",
    "        await database.insert_or_update_head_tail_label(label)"
   ]
  }
 ],
 "metadata": {
  "kernelspec": {
   "display_name": "fishsense-api-workflow-worker",
   "language": "python",
   "name": "python3"
  },
  "language_info": {
   "codemirror_mode": {
    "name": "ipython",
    "version": 3
   },
   "file_extension": ".py",
   "mimetype": "text/x-python",
   "name": "python",
   "nbconvert_exporter": "python",
   "pygments_lexer": "ipython3",
   "version": "3.13.6"
  }
 },
 "nbformat": 4,
 "nbformat_minor": 5
}
