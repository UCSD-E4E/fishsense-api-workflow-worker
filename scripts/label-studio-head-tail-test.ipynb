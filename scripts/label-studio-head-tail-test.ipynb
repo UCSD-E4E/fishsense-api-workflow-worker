{
 "cells": [
  {
   "cell_type": "code",
   "execution_count": 8,
   "id": "218b6e73",
   "metadata": {},
   "outputs": [],
   "source": [
    "from label_studio_sdk.client import LabelStudio\n",
    "from fishsense_api_workflow_worker.config import settings\n",
    "from urllib.parse import urlparse\n",
    "from typing import Any\n",
    "from fishsense_api_workflow_worker.models.laser_label import LaserLabel"
   ]
  },
  {
   "cell_type": "code",
   "execution_count": 9,
   "id": "f69dcf1e",
   "metadata": {},
   "outputs": [],
   "source": [
    "PROJECT_ID = 44"
   ]
  },
  {
   "cell_type": "code",
   "execution_count": 10,
   "id": "a3f36b78",
   "metadata": {},
   "outputs": [],
   "source": [
    "client = LabelStudio(base_url=f\"https://{settings.label_studio.host}\", api_key=settings.label_studio.api_key)"
   ]
  },
  {
   "cell_type": "code",
   "execution_count": 11,
   "id": "66592d17",
   "metadata": {},
   "outputs": [
    {
     "data": {
      "text/plain": [
       "LseTask(id=200141, agreement=None, predictions=[], annotations=[{'id': 86658, 'result': [{'id': 'T3NurHsbgS', 'type': 'keypointlabels', 'value': {'x': 56.450697413826575, 'y': 43.01043534345139, 'width': 0.2762390456930156, 'keypointlabels': ['Fork']}, 'origin': 'manual', 'to_name': 'img-1', 'from_name': 'kp-1', 'image_rotation': 0, 'original_width': 4014, 'original_height': 3016}, {'id': 'hDtlQwGAHJ', 'type': 'keypointlabels', 'value': {'x': 51.19127414924978, 'y': 42.8232755523195, 'width': 0.2762390456930156, 'keypointlabels': ['Snout']}, 'origin': 'manual', 'to_name': 'img-1', 'from_name': 'kp-1', 'image_rotation': 0, 'original_width': 4014, 'original_height': 3016}], 'created_username': 'Karen Peck karenpeck5000@gmail.com, 34', 'created_ago': '3\\xa0months, 3\\xa0weeks', 'completed_by': 34, 'was_cancelled': False, 'ground_truth': False, 'created_at': '2025-04-30T00:51:17.656915Z', 'updated_at': '2025-04-30T00:51:17.656937Z', 'draft_created_at': '2025-04-30T00:51:15.852694Z', 'lead_time': 21.843, 'import_id': None, 'last_action': None, 'task': 200141, 'project': 44, 'updated_by': 34, 'parent_prediction': None, 'parent_annotation': None, 'last_created_by': None}], drafts=[], annotators=[34], inner_id=6, cancelled_annotations=0, total_annotations=1, total_predictions=0, completed_at=datetime.datetime(2025, 4, 30, 0, 51, 17, 656915, tzinfo=datetime.timezone.utc), annotations_results='[{id:T3NurHsbgS, type:keypointlabels, value:{x:56.45, y:43.01, width:0.28, keypointlabels:[Fork]}, origin:manual, to_name:img-1, from_name:kp-1, image_rotation:0, original_width:4014, original_height:3016},{id:hDtlQwGAHJ, type:keypointlabels, value:{x:51.19, y:42.82, width:0.28, keypointlabels:[Snout]}, origin:manual, to_name:img-1, from_name:kp-1, image_rotation:0, original_width:4014, original_height:3016}]', predictions_results='', predictions_score=None, file_upload=None, storage_filename=None, annotations_ids='86658', predictions_model_versions='', avg_lead_time=21.843, draft_exists=False, updated_by=[{'user_id': 34}], reviewers=None, comments=None, comment_authors=[], reviewed=None, reviews_accepted=None, reviews_rejected=None, ground_truth=None, annotators_count=None, reviewers_count=None, comment_authors_count=None, data={'img': 'https://orchestrator.fishsense.e4e.ucsd.edu/api/v1/data/laser_jpeg/0e12db090ff3514d84b5ab687aff8bf6'}, meta={}, created_at=datetime.datetime(2025, 4, 15, 2, 33, 43, 691374, tzinfo=datetime.timezone.utc), updated_at=datetime.datetime(2025, 4, 30, 0, 51, 17, 795889, tzinfo=datetime.timezone.utc), is_labeled=True, overlap=1, comment_count=0, unresolved_comment_count=0, last_comment_updated_at=None, project=44)"
      ]
     },
     "execution_count": 11,
     "metadata": {},
     "output_type": "execute_result"
    }
   ],
   "source": [
    "for task in client.tasks.list(project=PROJECT_ID):\n",
    "    if len(task.annotations[0][\"result\"]) > 0:\n",
    "        break\n",
    "\n",
    "task"
   ]
  },
  {
   "cell_type": "code",
   "execution_count": 13,
   "id": "a2f399a3",
   "metadata": {},
   "outputs": [
    {
     "data": {
      "text/plain": [
       "'0e12db090ff3514d84b5ab687aff8bf6'"
      ]
     },
     "execution_count": 13,
     "metadata": {},
     "output_type": "execute_result"
    }
   ],
   "source": [
    "urlparse(task.data[\"img\"]).path.split(\"/\")[-1]  # Extract the filename from the URL"
   ]
  },
  {
   "cell_type": "code",
   "execution_count": 14,
   "id": "473223e8",
   "metadata": {},
   "outputs": [
    {
     "data": {
      "text/plain": [
       "[{'id': 'T3NurHsbgS',\n",
       "  'type': 'keypointlabels',\n",
       "  'value': {'x': 56.450697413826575,\n",
       "   'y': 43.01043534345139,\n",
       "   'width': 0.2762390456930156,\n",
       "   'keypointlabels': ['Fork']},\n",
       "  'origin': 'manual',\n",
       "  'to_name': 'img-1',\n",
       "  'from_name': 'kp-1',\n",
       "  'image_rotation': 0,\n",
       "  'original_width': 4014,\n",
       "  'original_height': 3016},\n",
       " {'id': 'hDtlQwGAHJ',\n",
       "  'type': 'keypointlabels',\n",
       "  'value': {'x': 51.19127414924978,\n",
       "   'y': 42.8232755523195,\n",
       "   'width': 0.2762390456930156,\n",
       "   'keypointlabels': ['Snout']},\n",
       "  'origin': 'manual',\n",
       "  'to_name': 'img-1',\n",
       "  'from_name': 'kp-1',\n",
       "  'image_rotation': 0,\n",
       "  'original_width': 4014,\n",
       "  'original_height': 3016}]"
      ]
     },
     "execution_count": 14,
     "metadata": {},
     "output_type": "execute_result"
    }
   ],
   "source": [
    "task.annotations[0][\"result\"]"
   ]
  },
  {
   "cell_type": "code",
   "execution_count": 23,
   "id": "ef2dcf4f",
   "metadata": {},
   "outputs": [
    {
     "data": {
      "text/plain": [
       "[{'id': 'hDtlQwGAHJ',\n",
       "  'type': 'keypointlabels',\n",
       "  'value': {'x': 51.19127414924978,\n",
       "   'y': 42.8232755523195,\n",
       "   'width': 0.2762390456930156,\n",
       "   'keypointlabels': ['Snout']},\n",
       "  'origin': 'manual',\n",
       "  'to_name': 'img-1',\n",
       "  'from_name': 'kp-1',\n",
       "  'image_rotation': 0,\n",
       "  'original_width': 4014,\n",
       "  'original_height': 3016}]"
      ]
     },
     "execution_count": 23,
     "metadata": {},
     "output_type": "execute_result"
    }
   ],
   "source": [
    "[result for result in task.annotations[0][\"result\"] if \"Snout\" in result[\"value\"][\"keypointlabels\"]]"
   ]
  },
  {
   "cell_type": "code",
   "execution_count": 27,
   "id": "66fbfb95",
   "metadata": {},
   "outputs": [
    {
     "data": {
      "text/plain": [
       "{'Fork', 'Snout'}"
      ]
     },
     "execution_count": 27,
     "metadata": {},
     "output_type": "execute_result"
    }
   ],
   "source": [
    "{label for result in task.annotations[0][\"result\"] for label in result[\"value\"][\"keypointlabels\"]}"
   ]
  }
 ],
 "metadata": {
  "kernelspec": {
   "display_name": "fishsense-api-workflow-worker",
   "language": "python",
   "name": "python3"
  },
  "language_info": {
   "codemirror_mode": {
    "name": "ipython",
    "version": 3
   },
   "file_extension": ".py",
   "mimetype": "text/x-python",
   "name": "python",
   "nbconvert_exporter": "python",
   "pygments_lexer": "ipython3",
   "version": "3.13.6"
  }
 },
 "nbformat": 4,
 "nbformat_minor": 5
}
