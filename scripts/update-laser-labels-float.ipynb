{
 "cells": [
  {
   "cell_type": "code",
   "execution_count": 1,
   "id": "bdf21ab9",
   "metadata": {},
   "outputs": [],
   "source": [
    "from fishsense_api_workflow_worker.database import Database\n",
    "from fishsense_api_workflow_worker.config import PG_CONNECTION_STRING\n",
    "\n",
    "from sqlmodel.ext.asyncio.session import AsyncSession\n",
    "from tqdm.notebook import tqdm"
   ]
  },
  {
   "cell_type": "code",
   "execution_count": 2,
   "id": "cddf71be",
   "metadata": {},
   "outputs": [],
   "source": [
    "database = Database(PG_CONNECTION_STRING)"
   ]
  },
  {
   "cell_type": "code",
   "execution_count": 6,
   "id": "8e50c2e0",
   "metadata": {},
   "outputs": [
    {
     "data": {
      "application/vnd.jupyter.widget-view+json": {
       "model_id": "50e848e2081041e7a069f86c3b5b5f63",
       "version_major": 2,
       "version_minor": 0
      },
      "text/plain": [
       "  0%|          | 0/68217 [00:00<?, ?it/s]"
      ]
     },
     "metadata": {},
     "output_type": "display_data"
    }
   ],
   "source": [
    "async with AsyncSession(database.engine) as session:\n",
    "    for label in tqdm(await database.select_laser_labels()):\n",
    "        if label.completed != True:\n",
    "            continue\n",
    "\n",
    "        original_width = label.json[\"annotations\"][0][\"result\"][0][\"original_width\"]\n",
    "        original_height = label.json[\"annotations\"][0][\"result\"][0][\"original_height\"]\n",
    "\n",
    "        x = label.json[\"annotations\"][0][\"result\"][0][\"value\"][\"x\"] / 100\n",
    "        y = label.json[\"annotations\"][0][\"result\"][0][\"value\"][\"y\"] / 100\n",
    "\n",
    "        x *= original_width\n",
    "        y *= original_height\n",
    "\n",
    "        label.x = x\n",
    "        label.y = y\n",
    "\n",
    "        label.label_studio_json = label.json\n",
    "\n",
    "        await database.insert_or_update_laser_label(label, session=session)\n",
    "\n",
    "    await session.commit()"
   ]
  },
  {
   "cell_type": "code",
   "execution_count": 7,
   "id": "901eac39",
   "metadata": {},
   "outputs": [
    {
     "data": {
      "application/vnd.jupyter.widget-view+json": {
       "model_id": "99048215c2214ebb88a4e11cbf23472e",
       "version_major": 2,
       "version_minor": 0
      },
      "text/plain": [
       "  0%|          | 0/41447 [00:00<?, ?it/s]"
      ]
     },
     "metadata": {},
     "output_type": "display_data"
    }
   ],
   "source": [
    "async with AsyncSession(database.engine) as session:\n",
    "    for label in tqdm(await database.select_head_tail_labels()):\n",
    "\n",
    "        label.label_studio_json = label.json\n",
    "\n",
    "        await database.insert_or_update_head_tail_label(label, session=session)\n",
    "\n",
    "    await session.commit()"
   ]
  }
 ],
 "metadata": {
  "kernelspec": {
   "display_name": "fishsense-api-workflow-worker",
   "language": "python",
   "name": "python3"
  },
  "language_info": {
   "codemirror_mode": {
    "name": "ipython",
    "version": 3
   },
   "file_extension": ".py",
   "mimetype": "text/x-python",
   "name": "python",
   "nbconvert_exporter": "python",
   "pygments_lexer": "ipython3",
   "version": "3.13.6"
  }
 },
 "nbformat": 4,
 "nbformat_minor": 5
}
