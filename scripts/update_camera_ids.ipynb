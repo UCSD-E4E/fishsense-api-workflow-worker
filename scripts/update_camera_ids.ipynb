{
 "cells": [
  {
   "cell_type": "code",
   "execution_count": 2,
   "id": "5bca3e5a",
   "metadata": {},
   "outputs": [],
   "source": [
    "from fishsense_api_workflow_worker.database import Database\n",
    "from fishsense_api_workflow_worker.config import PG_CONNECTION_STRING"
   ]
  },
  {
   "cell_type": "code",
   "execution_count": 3,
   "id": "60b566b1",
   "metadata": {},
   "outputs": [],
   "source": [
    "database = Database(PG_CONNECTION_STRING)"
   ]
  },
  {
   "cell_type": "code",
   "execution_count": 8,
   "id": "01a51e0b",
   "metadata": {},
   "outputs": [],
   "source": [
    "dives = await database.select_dives()\n",
    "\n",
    "for dive in dives:\n",
    "    images = await database.select_images_by_dive_ids(dive_ids=[dive.id])\n",
    "    camera_ids = set(image.camera_id for image in images if image.camera_id is not None)\n",
    "\n",
    "    dive.camera_id = list(camera_ids)[0]\n",
    "\n",
    "    await database.insert_or_update_dive(dive)"
   ]
  }
 ],
 "metadata": {
  "kernelspec": {
   "display_name": "fishsense-api-workflow-worker",
   "language": "python",
   "name": "python3"
  },
  "language_info": {
   "codemirror_mode": {
    "name": "ipython",
    "version": 3
   },
   "file_extension": ".py",
   "mimetype": "text/x-python",
   "name": "python",
   "nbconvert_exporter": "python",
   "pygments_lexer": "ipython3",
   "version": "3.13.6"
  }
 },
 "nbformat": 4,
 "nbformat_minor": 5
}
